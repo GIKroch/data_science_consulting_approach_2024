{
 "cells": [
  {
   "cell_type": "code",
   "execution_count": 260,
   "metadata": {},
   "outputs": [],
   "source": [
    "import warnings\n",
    "\n",
    "import geopandas as gpd\n",
    "import numpy as np\n",
    "import pandas as pd\n",
    "import seaborn as sns\n",
    "from shapely.geometry import Point\n",
    "\n",
    "# Pandas settings\n",
    "pd.options.display.max_columns = None\n",
    "pd.options.display.max_rows = 200\n",
    "pd.set_option('display.max_colwidth', 1000)\n",
    "pd.set_option('display.float_format', lambda x: '%.3f' % x)\n",
    "\n",
    "# Seaborn settings\n",
    "sns.set_style('whitegrid')\n",
    "\n",
    "# Warnings\n",
    "warnings.filterwarnings('ignore')"
   ]
  },
  {
   "cell_type": "code",
   "execution_count": 261,
   "metadata": {},
   "outputs": [],
   "source": [
    "# Read Grid (1km x 1km)\n",
    "path = r\"./data/GRID_NSP2021_RES/GRID_NSP2021_RES.shp\"\n",
    "gdf = gpd.read_file(path)"
   ]
  },
  {
   "cell_type": "code",
   "execution_count": null,
   "metadata": {},
   "outputs": [],
   "source": [
    "# Show Grid\n",
    "# We'll be using 'RES' column\n",
    "# 'geometry' column stores shape\n",
    "gdf"
   ]
  },
  {
   "cell_type": "code",
   "execution_count": null,
   "metadata": {},
   "outputs": [],
   "source": [
    "# Show Grid sample\n",
    "gdf.sample(3000).explore()"
   ]
  },
  {
   "cell_type": "code",
   "execution_count": null,
   "metadata": {},
   "outputs": [],
   "source": [
    "# Show Grid head\n",
    "gdf.head(3000).explore()"
   ]
  },
  {
   "cell_type": "code",
   "execution_count": null,
   "metadata": {},
   "outputs": [],
   "source": [
    "# Read Gminy\n",
    "path = r\"./data/Gminy/Gminy.shp\"\n",
    "gminy = gpd.read_file(path)\n",
    "\n",
    "display(gminy.shape)\n",
    "display(gminy.head(1))"
   ]
  },
  {
   "cell_type": "code",
   "execution_count": null,
   "metadata": {},
   "outputs": [],
   "source": [
    "# Filter Gminy for 'Warszawa'\n",
    "gminy_waw = gminy.loc[gminy['JPT_NAZWA_'] == 'Warszawa']\n",
    "gminy_waw.explore()"
   ]
  },
  {
   "cell_type": "code",
   "execution_count": null,
   "metadata": {},
   "outputs": [],
   "source": [
    "print(\"Gminy CRS: \")\n",
    "display(gminy.crs)\n",
    "print(\"\\nGrid CRS:\")\n",
    "display(gdf.crs)"
   ]
  },
  {
   "cell_type": "code",
   "execution_count": 268,
   "metadata": {},
   "outputs": [],
   "source": [
    "# Convert CRS to degree\n",
    "gdf = gdf.to_crs('EPSG:4258')"
   ]
  },
  {
   "cell_type": "code",
   "execution_count": null,
   "metadata": {},
   "outputs": [],
   "source": [
    "# Show Grid in Warsaw\n",
    "gdf.sjoin(gminy_waw).explore()"
   ]
  },
  {
   "cell_type": "code",
   "execution_count": null,
   "metadata": {},
   "outputs": [],
   "source": [
    "# Show Grid in Warsaw\n",
    "gdf.overlay(gminy_waw).explore()"
   ]
  },
  {
   "cell_type": "code",
   "execution_count": 271,
   "metadata": {},
   "outputs": [],
   "source": [
    "# Use sjoin\n",
    "gdf_waw = gdf.sjoin(gminy_waw)\n",
    "gdf_waw = gdf_waw.drop('index_right', axis=1)"
   ]
  },
  {
   "cell_type": "code",
   "execution_count": 272,
   "metadata": {},
   "outputs": [],
   "source": [
    "# Raed POS Database\n",
    "pos_db = pd.read_excel(\"./data/POS_DB/POS.xlsx\")\n",
    "\n",
    "# Preprocessing\n",
    "pos_db.isna().sum()\n",
    "\n",
    "idx = pos_db.loc[pos_db[['Longitude', 'Latitude']].isna().any(axis=1)].index\n",
    "pos_db = pos_db.drop(idx).reset_index(drop=True)\n",
    "\n",
    "pos_db['Latitude'] = pos_db['Latitude'].astype(str).str.replace(\",\", \"\")\n",
    "pos_db['Longitude'] = pos_db['Longitude'].astype(str).str.replace(\",\", \"\")\n",
    "\n",
    "pos_db['Latitude'] = pos_db['Latitude'].astype(float)\n",
    "pos_db['Longitude'] = pos_db['Longitude'].astype(float)"
   ]
  },
  {
   "cell_type": "code",
   "execution_count": 273,
   "metadata": {},
   "outputs": [],
   "source": [
    "# Convert DataFrame to GeoDataFrame (set up CRS)\n",
    "pos_db['geometry'] = pos_db.apply(lambda row: Point(row['Longitude'], row['Latitude']), axis=1)\n",
    "pos_db = gpd.GeoDataFrame(pos_db, crs=4258)"
   ]
  },
  {
   "cell_type": "code",
   "execution_count": null,
   "metadata": {},
   "outputs": [],
   "source": [
    "# Show sample POS\n",
    "pos_db.sample(2000).explore()"
   ]
  },
  {
   "cell_type": "code",
   "execution_count": null,
   "metadata": {},
   "outputs": [],
   "source": [
    "# Show stores in Warsaw\n",
    "pos_db.sjoin(gdf_waw).explore()"
   ]
  },
  {
   "cell_type": "code",
   "execution_count": 276,
   "metadata": {},
   "outputs": [],
   "source": [
    "# Add ID to merge Number of Stores in Grid\n",
    "gdf_waw = gdf_waw.reset_index(drop=True)\n",
    "gdf_waw['id'] = gdf_waw.index\n",
    "\n",
    "# Sjoin stores to Grid in Warsaw and aggregate to get number of stores in each box\n",
    "stores_agg = gdf_waw.sjoin(pos_db, how='left')\n",
    "stores_agg = stores_agg.groupby('id', as_index=False).agg(Num_Stores=('Company', 'count'))\n",
    "\n",
    "# Add Number of Stores to Grid\n",
    "gdf_waw = gdf_waw.merge(stores_agg, on='id', how='left', validate='1:1')\n",
    "\n",
    "# Add Number of Stores per Person\n",
    "gdf_waw['Num_Stores_per_1k_ppl'] = (gdf_waw['Num_Stores'] / (gdf_waw['RES'] / 1000)).fillna(0).replace(np.inf, 0).replace(-np.inf, 0)"
   ]
  },
  {
   "cell_type": "code",
   "execution_count": null,
   "metadata": {},
   "outputs": [],
   "source": [
    "gdf_waw['Num_Stores'].value_counts()"
   ]
  },
  {
   "cell_type": "code",
   "execution_count": null,
   "metadata": {},
   "outputs": [],
   "source": [
    "# Show areas where number of stores is 0\n",
    "gdf_waw.loc[gdf_waw['Num_Stores'] == 0].explore()"
   ]
  },
  {
   "cell_type": "code",
   "execution_count": 279,
   "metadata": {},
   "outputs": [],
   "source": [
    "# Score\n",
    "gdf_waw['Score'] = 1 - gdf_waw['Num_Stores_per_1k_ppl']"
   ]
  },
  {
   "cell_type": "code",
   "execution_count": null,
   "metadata": {},
   "outputs": [],
   "source": [
    "gdf_waw.explore(\n",
    "    style_kwds={\n",
    "        \"style_function\": lambda x: {\"fillOpacity\": x[\"properties\"][\"Score\"] * 0.8}\n",
    "    }\n",
    ")"
   ]
  }
 ],
 "metadata": {
  "kernelspec": {
   "display_name": "venv",
   "language": "python",
   "name": "python3"
  },
  "language_info": {
   "codemirror_mode": {
    "name": "ipython",
    "version": 3
   },
   "file_extension": ".py",
   "mimetype": "text/x-python",
   "name": "python",
   "nbconvert_exporter": "python",
   "pygments_lexer": "ipython3",
   "version": "3.11.9"
  },
  "orig_nbformat": 4
 },
 "nbformat": 4,
 "nbformat_minor": 2
}
